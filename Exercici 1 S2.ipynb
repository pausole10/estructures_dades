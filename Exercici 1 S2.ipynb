{
 "cells": [
  {
   "cell_type": "code",
   "execution_count": 30,
   "id": "3b142f04",
   "metadata": {},
   "outputs": [
    {
     "name": "stdout",
     "output_type": "stream",
     "text": [
      "['t1', ['Gener', 'Febrer', 'Març'], 't2', ['Abril', 'Maig', 'Juny'], 't3', ['Juliol', 'Agost', 'Setembre'], 't4', ['Octubre', 'Novembre', 'Desembre']]\n"
     ]
    }
   ],
   "source": [
    "llista1T = [\"Gener\", \"Febrer\",\"Març\"]\n",
    "llista2T = [\"Abril\", \"Maig\", \"Juny\"]\n",
    "llista3T = [\"Juliol\", \"Agost\", \"Setembre\"]\n",
    "llista4T= [\"Octubre\", \"Novembre\", \"Desembre\"]\n",
    "months_list1 =[ \"t1\",llista1T,\"t2\",llista2T,\"t3\",llista3T,\"t4\",llista4T]\n",
    "print (months_list1)"
   ]
  },
  {
   "cell_type": "code",
   "execution_count": 31,
   "id": "9b8e4b36",
   "metadata": {},
   "outputs": [
    {
     "name": "stdout",
     "output_type": "stream",
     "text": [
      "Febrer\n",
      "['Gener', 'Febrer', 'Març']\n",
      "Setembre\n",
      "Octubre\n"
     ]
    }
   ],
   "source": [
    "print(months_list1[1][1])\n",
    "print(months_list1[1][:3])\n",
    "print(months_list1[5][2])\n",
    "print(months_list1[7][0])"
   ]
  },
  {
   "cell_type": "code",
   "execution_count": 22,
   "id": "9ef9071a",
   "metadata": {},
   "outputs": [
    {
     "name": "stdout",
     "output_type": "stream",
     "text": [
      "Ingrese cuantos numeros aleatorios desea obtener\n",
      "10\n",
      "[5, 8, 4, 5, 3, 4, 2, 8, 3, 0]\n"
     ]
    }
   ],
   "source": [
    "#Construccio de la llista aleatoria\n",
    "\n",
    "import random\n",
    "\n",
    "def listaAleatorios(n):\n",
    "    lista = [0]  * n\n",
    "    for i in range(n):\n",
    "          lista[i] = random.randint(0, 10)\n",
    "    return lista\n",
    "\n",
    "print(\"Ingrese cuantos numeros aleatorios desea obtener\")\n",
    "n=int(input())\n",
    "\n",
    "aleatorios=listaAleatorios(n)\n",
    "print(aleatorios)"
   ]
  },
  {
   "cell_type": "code",
   "execution_count": 5,
   "id": "152b01c0",
   "metadata": {},
   "outputs": [
    {
     "name": "stdout",
     "output_type": "stream",
     "text": [
      "10\n"
     ]
    }
   ],
   "source": [
    "#Quants números hi ha?\n",
    "\n",
    "print(len(aleatorios))"
   ]
  },
  {
   "cell_type": "code",
   "execution_count": 11,
   "id": "6b858eff",
   "metadata": {},
   "outputs": [
    {
     "name": "stdout",
     "output_type": "stream",
     "text": [
      "{3: 1}\n"
     ]
    }
   ],
   "source": [
    "#Quantes vegades apareix el número 3?\n",
    "\n",
    "repeticiones = {}\n",
    "\n",
    "for n in aleatorios:\n",
    "    if n in repeticiones :\n",
    "        repeticiones[3] += 1\n",
    "    else:\n",
    "        repeticiones[3] = 0\n",
    "\n",
    "print(repeticiones)\n",
    "\n",
    "\n"
   ]
  },
  {
   "cell_type": "code",
   "execution_count": 10,
   "id": "d3a138c2",
   "metadata": {},
   "outputs": [
    {
     "name": "stdout",
     "output_type": "stream",
     "text": [
      "{3: 1, 4: 1}\n"
     ]
    }
   ],
   "source": [
    "#Quantes begades apareix el 3 i el 4?\n",
    "\n",
    "repeticiones = {}\n",
    "repeticions={}\n",
    "\n",
    "for n in aleatorios:\n",
    "    if n in repeticiones :\n",
    "        repeticiones[3]+= 1\n",
    "            \n",
    "    else:  \n",
    "        repeticiones[3] = 0\n",
    "        \n",
    "for n in aleatorios:\n",
    "    if n in repeticiones:\n",
    "        repeticiones[4] +=1\n",
    "    else:\n",
    "        repeticiones[4] =0\n",
    "        \n",
    "print(repeticiones)   \n",
    "\n"
   ]
  },
  {
   "cell_type": "code",
   "execution_count": 33,
   "id": "8a3a4fc2",
   "metadata": {
    "scrolled": true
   },
   "outputs": [
    {
     "name": "stdout",
     "output_type": "stream",
     "text": [
      "8\n",
      "[0, 2, 3, 3, 4, 4, 5, 5, 8, 8]\n",
      "Els tres nombres més petit son [0, 2, 3]\n"
     ]
    }
   ],
   "source": [
    "#Quin és el número més gran?\n",
    "\n",
    "print(max(aleatorios))\n",
    "\n",
    "#Quins son els 3 nombres més petits?\n",
    "\n",
    "aleatorios.sort()\n",
    "print(aleatorios)\n",
    "print(\"Els tres nombres més petit son\" , aleatorios[:3])\n"
   ]
  },
  {
   "cell_type": "code",
   "execution_count": 9,
   "id": "9b1d135a",
   "metadata": {},
   "outputs": [
    {
     "name": "stdout",
     "output_type": "stream",
     "text": [
      "0\n",
      "1\n",
      "2\n",
      "3\n",
      "4\n",
      "5\n",
      "6\n",
      "7\n",
      "8\n",
      "9\n",
      "3\n"
     ]
    }
   ],
   "source": [
    "#Quin és el rang d’aquesta llista?\n",
    "\n",
    "for aleatorios in range(10):\n",
    "    print(aleatorios)\n",
    "    \n",
    "#rang 10"
   ]
  },
  {
   "cell_type": "code",
   "execution_count": 21,
   "id": "d042662e",
   "metadata": {},
   "outputs": [
    {
     "name": "stdout",
     "output_type": "stream",
     "text": [
      "dict_items([('Pomes', {'Qty': 5, '€': 0.42}), ('Peres', {'Qty': 3, '€': 0.66})])\n",
      "dict_items([('Pomes', {'Qty': 5, '€': 0.42}), ('Peres', {'Qty': 3, '€': 0.66}), ('Platans', {'Qty': 7, '€': 0.78}), ('Mandarines', {'Qty': 15, '€': 0.45}), ('Sindries', {'Qty': 3, '€': 1.2})])\n"
     ]
    }
   ],
   "source": [
    "#Afegeix alguna fruita més\n",
    "\n",
    "compra = {\n",
    "    \"Pomes\" : {\"Qty\": 5, \"€\": 0.42},\n",
    "    \"Peres\" : {\"Qty\": 3, \"€\": 0.66},\n",
    "\n",
    "}\n",
    "\n",
    "x = compra.items()\n",
    "print (x)\n",
    "\n",
    "compra [\"Platans\"]={\"Qty\" : 7, \"€\": 0.78}\n",
    "compra [\"Mandarines\"]={\"Qty\": 15, \"€\": 0.45}   \n",
    "compra [\"Sindries\"] ={\"Qty\": 3, \"€\": 1.2}\n",
    "    \n",
    "print(x)\n"
   ]
  },
  {
   "cell_type": "code",
   "execution_count": 50,
   "id": "1030753c",
   "metadata": {
    "scrolled": true
   },
   "outputs": [
    {
     "name": "stdout",
     "output_type": "stream",
     "text": [
      "1.98\n"
     ]
    }
   ],
   "source": [
    "#Quant han costat les peres en total?\n",
    "\n",
    "\n",
    "y = compra[\"Peres\"][\"Qty\"]\n",
    "preuPera = compra[\"Peres\"][\"€\"]\n",
    "\n",
    "preuPeres=y*preuPera\n",
    "\n",
    "print(preuPeres)\n"
   ]
  },
  {
   "cell_type": "code",
   "execution_count": 51,
   "id": "e1249b92",
   "metadata": {},
   "outputs": [
    {
     "name": "stdout",
     "output_type": "stream",
     "text": [
      "33\n"
     ]
    }
   ],
   "source": [
    "#Quantes fruites hem comprat en total?\n",
    "\n",
    "quantPomes = compra[\"Pomes\"][\"Qty\"]\n",
    "quantPeres = compra[\"Peres\"][\"Qty\"]\n",
    "quantPlatans =compra[\"Platans\"][\"Qty\"]\n",
    "quantMandarines= compra[\"Mandarines\"][\"Qty\"]\n",
    "quantSindries= compra[\"Sindries\"][\"Qty\"]\n",
    "\n",
    "llistaQuant= [quantPomes, quantPeres, quantMandarines, quantPlatans, quantSindries]\n",
    "\n",
    "print(sum(llistaQuant))\n"
   ]
  },
  {
   "cell_type": "code",
   "execution_count": 53,
   "id": "5c380393",
   "metadata": {},
   "outputs": [
    {
     "name": "stdout",
     "output_type": "stream",
     "text": [
      "[0.42, 0.45, 0.78, 1.2, 0.66]\n",
      "1.2\n",
      "La sindria es la fruita més cara\n"
     ]
    }
   ],
   "source": [
    "# Quina és la fruita més cara?\n",
    "\n",
    "preuPoma= compra[\"Pomes\"][\"€\"]\n",
    "\n",
    "\n",
    "preuPlatan = compra[\"Platans\"][\"€\"]\n",
    "\n",
    "preuMandarina= compra[\"Mandarines\"][\"€\"]\n",
    "llistaS =[preuPoma, preuMandarina, preuPlatan, preuPera]\n",
    "\n",
    "preuSindria=compra[\"Sindries\"][\"€\"]\n",
    "    \n",
    "y = compra[\"Peres\"][\"Qty\"]\n",
    "preuPera = compra[\"Peres\"][\"€\"]\n",
    "\n",
    "llistaPreus= [preuPoma, preuMandarina, preuPlatan,preuSindria, preuPera]\n",
    "\n",
    "print(llistaPreus)\n",
    "\n",
    "print(max(llistaPreus))\n",
    "\n",
    "print(\"La sindria es la fruita més cara\")\n"
   ]
  }
 ],
 "metadata": {
  "kernelspec": {
   "display_name": "Python 3 (ipykernel)",
   "language": "python",
   "name": "python3"
  },
  "language_info": {
   "codemirror_mode": {
    "name": "ipython",
    "version": 3
   },
   "file_extension": ".py",
   "mimetype": "text/x-python",
   "name": "python",
   "nbconvert_exporter": "python",
   "pygments_lexer": "ipython3",
   "version": "3.9.7"
  }
 },
 "nbformat": 4,
 "nbformat_minor": 5
}
