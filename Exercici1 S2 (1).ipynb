{
 "cells": [
  {
   "cell_type": "code",
   "execution_count": 2,
   "id": "3b142f04",
   "metadata": {},
   "outputs": [
    {
     "name": "stdout",
     "output_type": "stream",
     "text": [
      "[['Gener', 'Febrer', 'Març'], ['Abril', 'Maig', 'Juny'], ['Juliol', 'Agost', 'Setembre'], ['Octubre', 'Novembre', 'Desembre']]\n"
     ]
    }
   ],
   "source": [
    "llista1T = [\"Gener\", \"Febrer\",\"Març\"]\n",
    "llista2T = [\"Abril\", \"Maig\", \"Juny\"]\n",
    "llista3T = [\"Juliol\", \"Agost\", \"Setembre\"]\n",
    "llista4T= [\"Octubre\", \"Novembre\", \"Desembre\"]\n",
    "months_list1 =[llista1T,llista2T,llista3T,llista4T]\n",
    "print (months_list1)"
   ]
  },
  {
   "cell_type": "code",
   "execution_count": 2,
   "id": "9b8e4b36",
   "metadata": {},
   "outputs": [
    {
     "name": "stdout",
     "output_type": "stream",
     "text": [
      "Febrer\n",
      "['Gener', 'Febrer', 'Març']\n",
      "Setembre\n",
      "Octubre\n"
     ]
    }
   ],
   "source": [
    "print(months_list1[1][1])\n",
    "print(months_list1[1][:3])\n",
    "print(months_list1[5][2])\n",
    "print(months_list1[7][0])"
   ]
  },
  {
   "cell_type": "code",
   "execution_count": 9,
   "id": "9ef9071a",
   "metadata": {},
   "outputs": [
    {
     "name": "stdout",
     "output_type": "stream",
     "text": [
      "[0, 9, 3, 7, 2, 5, 5, 9, 4, 4, 3]\n"
     ]
    }
   ],
   "source": [
    "#Construccio de la llista aleatoria\n",
    "\n",
    "import random\n",
    "aleatorios=[0,9,3,7,2,5,5,9,4,4,3]\n",
    "print(aleatorios)\n",
    "\n",
    "\n"
   ]
  },
  {
   "cell_type": "code",
   "execution_count": 10,
   "id": "152b01c0",
   "metadata": {},
   "outputs": [
    {
     "name": "stdout",
     "output_type": "stream",
     "text": [
      "11\n"
     ]
    }
   ],
   "source": [
    "#Quants números hi ha?\n",
    "\n",
    "print(len(aleatorios))"
   ]
  },
  {
   "cell_type": "code",
   "execution_count": 11,
   "id": "6b858eff",
   "metadata": {},
   "outputs": [
    {
     "data": {
      "text/plain": [
       "2"
      ]
     },
     "execution_count": 11,
     "metadata": {},
     "output_type": "execute_result"
    }
   ],
   "source": [
    "#Quantes vegades apareix el número 3?\n",
    "aleatorios.count(3)\n",
    "\n",
    "\n"
   ]
  },
  {
   "cell_type": "code",
   "execution_count": 12,
   "id": "d3a138c2",
   "metadata": {},
   "outputs": [
    {
     "name": "stdout",
     "output_type": "stream",
     "text": [
      "2\n",
      "2\n"
     ]
    }
   ],
   "source": [
    "#Quantes begades apareix el 3 i el 4?\n",
    "\n",
    "xx = aleatorios.count(3)\n",
    "print (xx)\n",
    "yy = aleatorios.count(4)\n",
    "print(yy)\n",
    "\n"
   ]
  },
  {
   "cell_type": "code",
   "execution_count": 16,
   "id": "8a3a4fc2",
   "metadata": {},
   "outputs": [
    {
     "name": "stdout",
     "output_type": "stream",
     "text": [
      "[9, 3, 7, 2, 5, 5, 9, 4, 4, 3]\n",
      "9\n",
      "[2, 3, 3]\n"
     ]
    }
   ],
   "source": [
    "#Quin és el número més gran?\n",
    "maximus = max(aleatorios)\n",
    "print(maximus)\n",
    "\n",
    "#Quins són els 3 números més petits?\n",
    "aleatoris=[]\n",
    "minim=[]\n",
    "x = aleatorios.index(min(aleatorios))\n",
    "minim.append(aleatorios[x])\n",
    "\n",
    "del aleatorios[x]\n",
    "y = aleatorios.index(min(aleatorios))\n",
    "minim.append(aleatorios[y])\n",
    "\n",
    "del aleatorios[y]\n",
    "z = aleatorios.index(min(aleatorios))\n",
    "minim.append(aleatorios[z])\n",
    "\n",
    "\n",
    "print(minim)\n"
   ]
  },
  {
   "cell_type": "code",
   "execution_count": 17,
   "id": "9b1d135a",
   "metadata": {},
   "outputs": [
    {
     "name": "stdout",
     "output_type": "stream",
     "text": [
      "[9, 7, 5, 5, 9, 4, 4, 3]\n",
      "6\n"
     ]
    }
   ],
   "source": [
    "#Quin és el rang d’aquesta llista?\n",
    "\n",
    "print(aleatorios)\n",
    "a= max(aleatorios)\n",
    "b= min(aleatorios)\n",
    "c= a-b\n",
    "print(c)\n",
    "\n",
    "    \n",
    "#rang 10\n"
   ]
  },
  {
   "cell_type": "code",
   "execution_count": 12,
   "id": "d042662e",
   "metadata": {},
   "outputs": [
    {
     "name": "stdout",
     "output_type": "stream",
     "text": [
      "{'Peres': {'Qty': 5, '€': 0.65}, 'Platans': {'Qty': 7, '€': 0.78}, 'Mandarines': {'Qty': 15, '€': 0.45}, 'Sindries': {'Qty': 3, '€': 1.2}}\n"
     ]
    }
   ],
   "source": [
    "#Afegeix alguna fruita més\n",
    "\n",
    "compra = {\n",
    "    \"Peres\": {\"Qty\": 5, \"€\": 0.65}\n",
    "\n",
    "}\n",
    "  \n",
    "keys = [\n",
    "    \"Platans\",\n",
    "    \"Mandarines\",\n",
    "    \"Sindries\"\n",
    "]\n",
    "    \n",
    "values=[\n",
    "    {\"Qty\" : 7, \"€\": 0.78},\n",
    "    {\"Qty\": 15, \"€\": 0.45},\n",
    "    {\"Qty\": 3, \"€\": 1.2}\n",
    "]\n",
    "    \n",
    "for key, value in zip(keys, values):\n",
    "    compra[key] = value\n",
    "\n",
    "print(compra)\n",
    "    "
   ]
  },
  {
   "cell_type": "code",
   "execution_count": 15,
   "id": "1030753c",
   "metadata": {
    "scrolled": true
   },
   "outputs": [
    {
     "name": "stdout",
     "output_type": "stream",
     "text": [
      "3.25\n",
      "3.25\n",
      "3.25\n",
      "3.25\n"
     ]
    }
   ],
   "source": [
    "#Quant han costat les peres en total?\n",
    "\n",
    "def mult(): \n",
    "    y = compra[key][\"Qty\"]\n",
    "    preuPera = compra[key][\"€\"]\n",
    "    preuPeres=y*preuPera\n",
    "    print(preuPeres)\n",
    "\n",
    "\n",
    "for i in compra:\n",
    "    key = \"Peres\"\n",
    "    mult()\n",
    "\n"
   ]
  },
  {
   "cell_type": "code",
   "execution_count": 6,
   "id": "e1249b92",
   "metadata": {},
   "outputs": [
    {
     "name": "stdout",
     "output_type": "stream",
     "text": [
      "33\n"
     ]
    }
   ],
   "source": [
    "#Quantes fruites hem comprat en total?\n",
    "\n",
    "quantPomes = compra[\"Pomes\"][\"Qty\"]\n",
    "quantPeres = compra[\"Peres\"][\"Qty\"]\n",
    "quantPlatans =compra[\"Platans\"][\"Qty\"]\n",
    "quantMandarines= compra[\"Mandarines\"][\"Qty\"]\n",
    "quantSindries= compra[\"Sindries\"][\"Qty\"]\n",
    "\n",
    "llistaQuant= [quantPomes, quantPeres, quantMandarines, quantPlatans, quantSindries]\n",
    "\n",
    "print(sum(llistaQuant))\n"
   ]
  },
  {
   "cell_type": "code",
   "execution_count": 25,
   "id": "5c380393",
   "metadata": {},
   "outputs": [
    {
     "name": "stdout",
     "output_type": "stream",
     "text": [
      "[0.42, 0.45, 0.78, 1.2, 0.66]\n",
      "1.2\n",
      "La sindria es la fruita més cara\n"
     ]
    }
   ],
   "source": [
    "# Quina és la fruita més cara?\n",
    "\n",
    "preuPoma= compra[\"Pomes\"][\"€\"]\n",
    "\n",
    "\n",
    "preuPlatan = compra[\"Platans\"][\"€\"]\n",
    "\n",
    "preuMandarina= compra[\"Mandarines\"][\"€\"]\n",
    "llistaS =[preuPoma, preuMandarina, preuPlatan, preuPera]\n",
    "\n",
    "preuSindria=compra[\"Sindries\"][\"€\"]\n",
    "    \n",
    "y = compra[\"Peres\"][\"Qty\"]\n",
    "preuPera = compra[\"Peres\"][\"€\"]\n",
    "\n",
    "llistaPreus= [preuPoma, preuMandarina, preuPlatan,preuSindria, preuPera]\n",
    "\n",
    "print(llistaPreus)\n",
    "\n",
    "print(max(llistaPreus))\n",
    "\n",
    "print(\"La sindria es la fruita més cara\")\n"
   ]
  }
 ],
 "metadata": {
  "kernelspec": {
   "display_name": "Python 3 (ipykernel)",
   "language": "python",
   "name": "python3"
  },
  "language_info": {
   "codemirror_mode": {
    "name": "ipython",
    "version": 3
   },
   "file_extension": ".py",
   "mimetype": "text/x-python",
   "name": "python",
   "nbconvert_exporter": "python",
   "pygments_lexer": "ipython3",
   "version": "3.9.7"
  }
 },
 "nbformat": 4,
 "nbformat_minor": 5
}
